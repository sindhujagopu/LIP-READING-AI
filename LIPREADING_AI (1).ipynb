{
  "nbformat": 4,
  "nbformat_minor": 0,
  "metadata": {
    "colab": {
      "provenance": [],
      "gpuType": "T4",
      "collapsed_sections": [
        "dgZwW7wEu9Kj",
        "oXx7XWgv-j_m"
      ]
    },
    "kernelspec": {
      "name": "python3",
      "display_name": "Python 3"
    },
    "language_info": {
      "name": "python"
    },
    "accelerator": "GPU"
  },
  "cells": [
    {
      "cell_type": "markdown",
      "source": [
        "# **Path Loading**"
      ],
      "metadata": {
        "id": "OqkZsU91gLO8"
      }
    },
    {
      "cell_type": "code",
      "source": [
        "!pwd"
      ],
      "metadata": {
        "id": "JmeGYTihgQcm"
      },
      "execution_count": null,
      "outputs": []
    },
    {
      "cell_type": "code",
      "source": [
        "mv /content/drive/MyDrive/data mdata"
      ],
      "metadata": {
        "id": "gc1oHskjgSTC"
      },
      "execution_count": null,
      "outputs": []
    },
    {
      "cell_type": "code",
      "source": [],
      "metadata": {
        "id": "Mst_S-J_YDTd"
      },
      "execution_count": null,
      "outputs": []
    },
    {
      "cell_type": "code",
      "source": [],
      "metadata": {
        "id": "iw09-MHMYDjr"
      },
      "execution_count": null,
      "outputs": []
    },
    {
      "cell_type": "code",
      "source": [
        "mv /content/drive/MyDrive/model_checkpoints mdata"
      ],
      "metadata": {
        "id": "VVActfe7gojw"
      },
      "execution_count": null,
      "outputs": []
    },
    {
      "cell_type": "markdown",
      "source": [],
      "metadata": {
        "id": "G1V1DLY7YEMo"
      }
    },
    {
      "cell_type": "markdown",
      "source": [
        "# **Installing and Importing Dependencies**"
      ],
      "metadata": {
        "id": "dgZwW7wEu9Kj"
      }
    },
    {
      "cell_type": "code",
      "source": [
        "from google.colab import drive\n",
        "drive.mount('/content/drive')"
      ],
      "metadata": {
        "id": "S7mPsGLgioX6",
        "colab": {
          "base_uri": "https://localhost:8080/"
        },
        "outputId": "21d3bc08-ab87-4f09-9810-25f675b9e066"
      },
      "execution_count": null,
      "outputs": [
        {
          "output_type": "stream",
          "name": "stdout",
          "text": [
            "Drive already mounted at /content/drive; to attempt to forcibly remount, call drive.mount(\"/content/drive\", force_remount=True).\n"
          ]
        }
      ]
    },
    {
      "cell_type": "code",
      "execution_count": null,
      "metadata": {
        "colab": {
          "base_uri": "https://localhost:8080/"
        },
        "id": "T4khFZDmuwHh",
        "outputId": "33495eb6-3d2d-4a48-b8b6-6968646871be"
      },
      "outputs": [
        {
          "output_type": "stream",
          "name": "stdout",
          "text": [
            "Requirement already satisfied: opencv-python in /usr/local/lib/python3.10/dist-packages (4.8.0.76)\n",
            "Requirement already satisfied: matplotlib in /usr/local/lib/python3.10/dist-packages (3.7.1)\n",
            "Requirement already satisfied: imageio in /usr/local/lib/python3.10/dist-packages (2.23.0)\n",
            "Requirement already satisfied: gdown in /usr/local/lib/python3.10/dist-packages (5.1.0)\n",
            "Requirement already satisfied: tensorflow in /usr/local/lib/python3.10/dist-packages (2.15.0)\n",
            "Requirement already satisfied: numpy>=1.21.2 in /usr/local/lib/python3.10/dist-packages (from opencv-python) (1.25.2)\n",
            "Requirement already satisfied: contourpy>=1.0.1 in /usr/local/lib/python3.10/dist-packages (from matplotlib) (1.2.1)\n",
            "Requirement already satisfied: cycler>=0.10 in /usr/local/lib/python3.10/dist-packages (from matplotlib) (0.12.1)\n",
            "Requirement already satisfied: fonttools>=4.22.0 in /usr/local/lib/python3.10/dist-packages (from matplotlib) (4.52.4)\n",
            "Requirement already satisfied: kiwisolver>=1.0.1 in /usr/local/lib/python3.10/dist-packages (from matplotlib) (1.4.5)\n",
            "Requirement already satisfied: packaging>=20.0 in /usr/local/lib/python3.10/dist-packages (from matplotlib) (24.0)\n",
            "Requirement already satisfied: pillow>=6.2.0 in /usr/local/lib/python3.10/dist-packages (from matplotlib) (9.4.0)\n",
            "Requirement already satisfied: pyparsing>=2.3.1 in /usr/local/lib/python3.10/dist-packages (from matplotlib) (3.1.2)\n",
            "Requirement already satisfied: python-dateutil>=2.7 in /usr/local/lib/python3.10/dist-packages (from matplotlib) (2.8.2)\n",
            "Requirement already satisfied: beautifulsoup4 in /usr/local/lib/python3.10/dist-packages (from gdown) (4.12.3)\n",
            "Requirement already satisfied: filelock in /usr/local/lib/python3.10/dist-packages (from gdown) (3.14.0)\n",
            "Requirement already satisfied: requests[socks] in /usr/local/lib/python3.10/dist-packages (from gdown) (2.31.0)\n",
            "Requirement already satisfied: tqdm in /usr/local/lib/python3.10/dist-packages (from gdown) (4.66.4)\n",
            "Requirement already satisfied: absl-py>=1.0.0 in /usr/local/lib/python3.10/dist-packages (from tensorflow) (1.4.0)\n",
            "Requirement already satisfied: astunparse>=1.6.0 in /usr/local/lib/python3.10/dist-packages (from tensorflow) (1.6.3)\n",
            "Requirement already satisfied: flatbuffers>=23.5.26 in /usr/local/lib/python3.10/dist-packages (from tensorflow) (24.3.25)\n",
            "Requirement already satisfied: gast!=0.5.0,!=0.5.1,!=0.5.2,>=0.2.1 in /usr/local/lib/python3.10/dist-packages (from tensorflow) (0.5.4)\n",
            "Requirement already satisfied: google-pasta>=0.1.1 in /usr/local/lib/python3.10/dist-packages (from tensorflow) (0.2.0)\n",
            "Requirement already satisfied: h5py>=2.9.0 in /usr/local/lib/python3.10/dist-packages (from tensorflow) (3.9.0)\n",
            "Requirement already satisfied: libclang>=13.0.0 in /usr/local/lib/python3.10/dist-packages (from tensorflow) (18.1.1)\n",
            "Requirement already satisfied: ml-dtypes~=0.2.0 in /usr/local/lib/python3.10/dist-packages (from tensorflow) (0.2.0)\n",
            "Requirement already satisfied: opt-einsum>=2.3.2 in /usr/local/lib/python3.10/dist-packages (from tensorflow) (3.3.0)\n",
            "Requirement already satisfied: protobuf!=4.21.0,!=4.21.1,!=4.21.2,!=4.21.3,!=4.21.4,!=4.21.5,<5.0.0dev,>=3.20.3 in /usr/local/lib/python3.10/dist-packages (from tensorflow) (3.20.3)\n",
            "Requirement already satisfied: setuptools in /usr/local/lib/python3.10/dist-packages (from tensorflow) (67.7.2)\n",
            "Requirement already satisfied: six>=1.12.0 in /usr/local/lib/python3.10/dist-packages (from tensorflow) (1.16.0)\n",
            "Requirement already satisfied: termcolor>=1.1.0 in /usr/local/lib/python3.10/dist-packages (from tensorflow) (2.4.0)\n",
            "Requirement already satisfied: typing-extensions>=3.6.6 in /usr/local/lib/python3.10/dist-packages (from tensorflow) (4.12.0)\n",
            "Requirement already satisfied: wrapt<1.15,>=1.11.0 in /usr/local/lib/python3.10/dist-packages (from tensorflow) (1.14.1)\n",
            "Requirement already satisfied: tensorflow-io-gcs-filesystem>=0.23.1 in /usr/local/lib/python3.10/dist-packages (from tensorflow) (0.37.0)\n",
            "Requirement already satisfied: grpcio<2.0,>=1.24.3 in /usr/local/lib/python3.10/dist-packages (from tensorflow) (1.64.0)\n",
            "Requirement already satisfied: tensorboard<2.16,>=2.15 in /usr/local/lib/python3.10/dist-packages (from tensorflow) (2.15.2)\n",
            "Requirement already satisfied: tensorflow-estimator<2.16,>=2.15.0 in /usr/local/lib/python3.10/dist-packages (from tensorflow) (2.15.0)\n",
            "Requirement already satisfied: keras<2.16,>=2.15.0 in /usr/local/lib/python3.10/dist-packages (from tensorflow) (2.15.0)\n",
            "Requirement already satisfied: wheel<1.0,>=0.23.0 in /usr/local/lib/python3.10/dist-packages (from astunparse>=1.6.0->tensorflow) (0.43.0)\n",
            "Requirement already satisfied: google-auth<3,>=1.6.3 in /usr/local/lib/python3.10/dist-packages (from tensorboard<2.16,>=2.15->tensorflow) (2.27.0)\n",
            "Requirement already satisfied: google-auth-oauthlib<2,>=0.5 in /usr/local/lib/python3.10/dist-packages (from tensorboard<2.16,>=2.15->tensorflow) (1.2.0)\n",
            "Requirement already satisfied: markdown>=2.6.8 in /usr/local/lib/python3.10/dist-packages (from tensorboard<2.16,>=2.15->tensorflow) (3.6)\n",
            "Requirement already satisfied: tensorboard-data-server<0.8.0,>=0.7.0 in /usr/local/lib/python3.10/dist-packages (from tensorboard<2.16,>=2.15->tensorflow) (0.7.2)\n",
            "Requirement already satisfied: werkzeug>=1.0.1 in /usr/local/lib/python3.10/dist-packages (from tensorboard<2.16,>=2.15->tensorflow) (3.0.3)\n",
            "Requirement already satisfied: soupsieve>1.2 in /usr/local/lib/python3.10/dist-packages (from beautifulsoup4->gdown) (2.5)\n",
            "Requirement already satisfied: charset-normalizer<4,>=2 in /usr/local/lib/python3.10/dist-packages (from requests[socks]->gdown) (3.3.2)\n",
            "Requirement already satisfied: idna<4,>=2.5 in /usr/local/lib/python3.10/dist-packages (from requests[socks]->gdown) (3.7)\n",
            "Requirement already satisfied: urllib3<3,>=1.21.1 in /usr/local/lib/python3.10/dist-packages (from requests[socks]->gdown) (2.0.7)\n",
            "Requirement already satisfied: certifi>=2017.4.17 in /usr/local/lib/python3.10/dist-packages (from requests[socks]->gdown) (2024.2.2)\n",
            "Requirement already satisfied: PySocks!=1.5.7,>=1.5.6 in /usr/local/lib/python3.10/dist-packages (from requests[socks]->gdown) (1.7.1)\n",
            "Requirement already satisfied: cachetools<6.0,>=2.0.0 in /usr/local/lib/python3.10/dist-packages (from google-auth<3,>=1.6.3->tensorboard<2.16,>=2.15->tensorflow) (5.3.3)\n",
            "Requirement already satisfied: pyasn1-modules>=0.2.1 in /usr/local/lib/python3.10/dist-packages (from google-auth<3,>=1.6.3->tensorboard<2.16,>=2.15->tensorflow) (0.4.0)\n",
            "Requirement already satisfied: rsa<5,>=3.1.4 in /usr/local/lib/python3.10/dist-packages (from google-auth<3,>=1.6.3->tensorboard<2.16,>=2.15->tensorflow) (4.9)\n",
            "Requirement already satisfied: requests-oauthlib>=0.7.0 in /usr/local/lib/python3.10/dist-packages (from google-auth-oauthlib<2,>=0.5->tensorboard<2.16,>=2.15->tensorflow) (1.3.1)\n",
            "Requirement already satisfied: MarkupSafe>=2.1.1 in /usr/local/lib/python3.10/dist-packages (from werkzeug>=1.0.1->tensorboard<2.16,>=2.15->tensorflow) (2.1.5)\n",
            "Requirement already satisfied: pyasn1<0.7.0,>=0.4.6 in /usr/local/lib/python3.10/dist-packages (from pyasn1-modules>=0.2.1->google-auth<3,>=1.6.3->tensorboard<2.16,>=2.15->tensorflow) (0.6.0)\n",
            "Requirement already satisfied: oauthlib>=3.0.0 in /usr/local/lib/python3.10/dist-packages (from requests-oauthlib>=0.7.0->google-auth-oauthlib<2,>=0.5->tensorboard<2.16,>=2.15->tensorflow) (3.2.2)\n"
          ]
        }
      ],
      "source": [
        "#opencv is used to preprocess our data\n",
        "#matplotlib is used for creating high-quality visualizations and graphs.\n",
        "#imageio provides an easy interface to read and write a wide range of image data, including animated images, video\n",
        "#gdown proviodes an ability to download publicly available files and folders from Google Drive.\n",
        "#tensorflow is used for building model\n",
        "!pip install opencv-python matplotlib imageio gdown tensorflow"
      ]
    },
    {
      "cell_type": "markdown",
      "source": [
        "**Importing Dependencies**"
      ],
      "metadata": {
        "id": "w-1OPHe0wy-c"
      }
    },
    {
      "cell_type": "code",
      "source": [
        "#For traversing through different file systems:\n",
        "import os\n",
        "import cv2\n",
        "import tensorflow as tf\n",
        "import numpy as np\n",
        "import matplotlib.pyplot as plt\n",
        "#For using type annotations for documenting the code\n",
        "from typing import List\n",
        "import imageio"
      ],
      "metadata": {
        "id": "uoNOhtsbvUg8"
      },
      "execution_count": null,
      "outputs": []
    },
    {
      "cell_type": "markdown",
      "source": [
        "**To prevent exponential memory growth**"
      ],
      "metadata": {
        "id": "coxY28_X0jK1"
      }
    },
    {
      "cell_type": "code",
      "source": [],
      "metadata": {
        "id": "sRp5ddE20aCm"
      },
      "execution_count": null,
      "outputs": []
    },
    {
      "cell_type": "code",
      "source": [
        "physical_devices=tf.config.list_physical_devices('GPU')\n",
        "try:\n",
        "  tf.config.experimental.set_memory_growth(physical_devices[0],True)\n",
        "except:\n",
        "  pass"
      ],
      "metadata": {
        "id": "6UgcCE381GS6"
      },
      "execution_count": null,
      "outputs": []
    },
    {
      "cell_type": "code",
      "source": [],
      "metadata": {
        "id": "6FydXN8j3DRj"
      },
      "execution_count": null,
      "outputs": []
    },
    {
      "cell_type": "markdown",
      "source": [
        "#  **Data Preprocessing**"
      ],
      "metadata": {
        "id": "oXx7XWgv-j_m"
      }
    },
    {
      "cell_type": "code",
      "source": [
        "#Dataset : We will be using some part of The Grid Audio-Visual Speech Corpus to build our model\n",
        "#The actual grid dataset has 34 speakers, but for simplicity we'll break down to one speaker\n",
        "#This dataset is avaialble on gdrive, for accessing it we are using gdown\n",
        "#The google drive link is https://drive.google.com/file/d/1Nyy_8OND_EgvUJQPfbqEAH1CVfkwDOtg/view?usp=share_link\n",
        "# import gdown\n",
        "# link='https://drive.google.com/file/d/1Nyy_8OND_EgvUJQPfbqEAH1CVfkwDOtg/view?usp=share_link'\n",
        "# output='data.zip'\n",
        "# gdown.download(link,output,quiet=False)\n",
        "# # gdown.extractall('data.zip')\n",
        "#We're encountering that the downloaded file is not a zip file, so I manually downlaoded the data and uploaded in env\n",
        "#we'll load data manually the data is available in google drive"
      ],
      "metadata": {
        "id": "qFdHSRT3-r6K"
      },
      "execution_count": null,
      "outputs": []
    },
    {
      "cell_type": "code",
      "source": [
        "#Writing a function to load the video\n",
        "def load_video(path:str)->List[float]:\n",
        "  #we'll first create a video capture instance\n",
        "  video_capture=cv2.VideoCapture(path)\n",
        "  #we'll loop through each one of the frames and store it an array called frames\n",
        "  frames=[]\n",
        "  for _ in range(int(video_capture.get(cv2.CAP_PROP_FRAME_COUNT))):\n",
        "    #read the frame\n",
        "    ret, frame=video_capture.read()\n",
        "    #convert the frame to grayscale by using tensorflow\n",
        "    frame=tf.image.rgb_to_grayscale(frame)\n",
        "    #isolate the mouth region\n",
        "    frames.append(frame[190:236,80:220,:])\n",
        "    #But, the original Lipnet paper actually uses an advanced technique to detect the mouth using DLIB\n",
        "  #release the video capture instance\n",
        "  video_capture.release()\n",
        "\n",
        "  #standardise the data using mean,SD\n",
        "  mean=tf.math.reduce_mean(frames)\n",
        "  std=tf.math.reduce_std(tf.cast(frames,tf.float32))\n",
        "  return tf.cast((frames - mean), tf.float32)/std"
      ],
      "metadata": {
        "id": "nUs6aCf8-z1M"
      },
      "execution_count": null,
      "outputs": []
    },
    {
      "cell_type": "code",
      "source": [
        "#Create a list of alphabets and numbers that may encounter in annotations/alignments\n",
        "alphanum=[x for x in \"abcdefghijklmnopqrstuvwxyz'?!123456789 \"]\n",
        "alphanum"
      ],
      "metadata": {
        "colab": {
          "base_uri": "https://localhost:8080/"
        },
        "id": "ciPyEzQs-z-s",
        "outputId": "0b836772-656c-4f65-d9bd-d3fad83cbd5d"
      },
      "execution_count": null,
      "outputs": [
        {
          "output_type": "execute_result",
          "data": {
            "text/plain": [
              "['a',\n",
              " 'b',\n",
              " 'c',\n",
              " 'd',\n",
              " 'e',\n",
              " 'f',\n",
              " 'g',\n",
              " 'h',\n",
              " 'i',\n",
              " 'j',\n",
              " 'k',\n",
              " 'l',\n",
              " 'm',\n",
              " 'n',\n",
              " 'o',\n",
              " 'p',\n",
              " 'q',\n",
              " 'r',\n",
              " 's',\n",
              " 't',\n",
              " 'u',\n",
              " 'v',\n",
              " 'w',\n",
              " 'x',\n",
              " 'y',\n",
              " 'z',\n",
              " \"'\",\n",
              " '?',\n",
              " '!',\n",
              " '1',\n",
              " '2',\n",
              " '3',\n",
              " '4',\n",
              " '5',\n",
              " '6',\n",
              " '7',\n",
              " '8',\n",
              " '9',\n",
              " ' ']"
            ]
          },
          "metadata": {},
          "execution_count": 7
        }
      ]
    },
    {
      "cell_type": "code",
      "source": [
        "#we'll use keras stringlookup to convert char->num and vice cersa\n",
        "char_to_num=tf.keras.layers.StringLookup(vocabulary=alphanum,oov_token=\"\")\n",
        "#oov_token=\"\" will place \"\" if it encounters the caracter which isn't seen beofre\n",
        "num_to_char=tf.keras.layers.StringLookup(\n",
        "    vocabulary=char_to_num.get_vocabulary(),oov_token=\"\",invert=True\n",
        "    )\n",
        "#print our vocabulary and its size\n",
        "print(char_to_num.get_vocabulary())\n",
        "print(char_to_num.vocabulary_size())"
      ],
      "metadata": {
        "colab": {
          "base_uri": "https://localhost:8080/"
        },
        "id": "mE_CZMzu-0Bh",
        "outputId": "830f47f3-c959-4ebc-92a8-9d5b09d34924"
      },
      "execution_count": null,
      "outputs": [
        {
          "output_type": "stream",
          "name": "stdout",
          "text": [
            "['', 'a', 'b', 'c', 'd', 'e', 'f', 'g', 'h', 'i', 'j', 'k', 'l', 'm', 'n', 'o', 'p', 'q', 'r', 's', 't', 'u', 'v', 'w', 'x', 'y', 'z', \"'\", '?', '!', '1', '2', '3', '4', '5', '6', '7', '8', '9', ' ']\n",
            "40\n"
          ]
        }
      ]
    },
    {
      "cell_type": "code",
      "source": [
        "#create a fucntion to load alingments\n",
        "def load_alignments(path:str)->List[str]:\n",
        "  with open(path, 'r') as f:\n",
        "    lines=f.readlines()\n",
        "  #create an array tokens to store the numeric val of alinments by using char_to_num\n",
        "  tokens=[]\n",
        "  for line in lines:\n",
        "    #split each one of lines in alignments\n",
        "    line=line.split()\n",
        "    #ignore if the alignment has character 'sil'\n",
        "    if line[2]!='sil':\n",
        "      #append in tokens\n",
        "      tokens=[*tokens,'',line[2]]\n",
        "  #return numeric val of tokens\n",
        "  return char_to_num(tf.reshape(tf.strings.unicode_split(tokens, input_encoding='UTF-8'), (-1)))[1:]"
      ],
      "metadata": {
        "id": "6YTAwVZT-0D9"
      },
      "execution_count": null,
      "outputs": []
    },
    {
      "cell_type": "code",
      "source": [
        "#Now we'll create a fucntion to load the data - both video and alignments simultaneously and returns the preprocessed video and alignments\n",
        "def load_data(path:str):\n",
        "  path=bytes.decode(path.numpy())\n",
        "  #splits the filename for\n",
        "  file_name=path.split('/')[-1].split('.')[0]\n",
        "  #create sep paths for both align and video\n",
        "  #appending file_name to get video\n",
        "  video_path=os.path.join('data','s1',f'{file_name}.mpg')\n",
        "  #appending file_name to get alignment\n",
        "  #remember alignment and video file names are same, check dataset\n",
        "  align_path=os.path.join('data','alignments','s1',f'{file_name}.align')\n",
        "  frames=load_video(video_path)\n",
        "  alignments=load_alignments(align_path)\n",
        "  return frames,alignments\n"
      ],
      "metadata": {
        "id": "xOXOMqeI-0Gk"
      },
      "execution_count": null,
      "outputs": []
    },
    {
      "cell_type": "code",
      "source": [
        "#Let's check for some test video\n",
        "test_path='/content/data/s1/bbaf3s.mpg'\n",
        "#This is how splitting goes\n",
        "tf.convert_to_tensor(test_path)"
      ],
      "metadata": {
        "colab": {
          "base_uri": "https://localhost:8080/"
        },
        "id": "dvj8_UQa-0I5",
        "outputId": "4af219eb-71dd-4dce-eac7-5d293f6693d7"
      },
      "execution_count": null,
      "outputs": [
        {
          "output_type": "execute_result",
          "data": {
            "text/plain": [
              "<tf.Tensor: shape=(), dtype=string, numpy=b'/content/data/s1/bbaf3s.mpg'>"
            ]
          },
          "metadata": {},
          "execution_count": 11
        }
      ]
    },
    {
      "cell_type": "code",
      "source": [
        "#Now we'll pass this test path in load_data to return preprocessed video and alingments\n",
        "frames,alignments=load_data(tf.convert_to_tensor(test_path))\n",
        "#we'll use them in our NN"
      ],
      "metadata": {
        "id": "_liUbPpC-0Lg"
      },
      "execution_count": null,
      "outputs": []
    },
    {
      "cell_type": "code",
      "source": [
        "#let's load the frames shape\n",
        "frames.shape\n",
        "#75 frames in lenghth, with each of shape 46*140*1"
      ],
      "metadata": {
        "colab": {
          "base_uri": "https://localhost:8080/"
        },
        "id": "N7yOpBi7_cWy",
        "outputId": "572c418b-dc67-4bef-efe7-9d7d25c3dc91"
      },
      "execution_count": null,
      "outputs": [
        {
          "output_type": "execute_result",
          "data": {
            "text/plain": [
              "TensorShape([75, 46, 140, 1])"
            ]
          },
          "metadata": {},
          "execution_count": 13
        }
      ]
    },
    {
      "cell_type": "code",
      "source": [
        "#lets plot one frame\n",
        "plt.imshow(frames[74])\n",
        "#using mean and sd will be able to isolate these regions yellow"
      ],
      "metadata": {
        "colab": {
          "base_uri": "https://localhost:8080/",
          "height": 105
        },
        "id": "olmjImRW_cZp",
        "outputId": "b6f3db4b-7e01-43f5-975b-c568bbfd3b70"
      },
      "execution_count": null,
      "outputs": [
        {
          "output_type": "execute_result",
          "data": {
            "text/plain": [
              "<matplotlib.image.AxesImage at 0x7fb296f1c0d0>"
            ]
          },
          "metadata": {},
          "execution_count": 14
        },
        {
          "output_type": "display_data",
          "data": {
            "text/plain": [
              "<Figure size 640x480 with 1 Axes>"
            ],
            "image/png": "[encoded data removed]"
          },
          "metadata": {}
        }
      ]
    },
    {
      "cell_type": "code",
      "source": [
        "#lets look aligments\n",
        "alignments"
      ],
      "metadata": {
        "colab": {
          "base_uri": "https://localhost:8080/"
        },
        "id": "-cvHEg9P_ccw",
        "outputId": "f4c4f89c-d109-4822-ba02-3d842552069b"
      },
      "execution_count": null,
      "outputs": [
        {
          "output_type": "execute_result",
          "data": {
            "text/plain": [
              "<tf.Tensor: shape=(18,), dtype=int64, numpy=\n",
              "array([ 9, 14,  2, 12, 21,  5,  1, 20,  6, 20,  8, 18,  5,  5, 19, 15, 15,\n",
              "       14])>"
            ]
          },
          "metadata": {},
          "execution_count": 15
        }
      ]
    },
    {
      "cell_type": "code",
      "source": [
        "#lets see the characters\n",
        "num_to_char(alignments).numpy()"
      ],
      "metadata": {
        "colab": {
          "base_uri": "https://localhost:8080/"
        },
        "id": "MzouX3NY_ce3",
        "outputId": "cbe64fe4-64b8-462f-d38e-202702488c3e"
      },
      "execution_count": null,
      "outputs": [
        {
          "output_type": "execute_result",
          "data": {
            "text/plain": [
              "array([b'i', b'n', b'b', b'l', b'u', b'e', b'a', b't', b'f', b't', b'h',\n",
              "       b'r', b'e', b'e', b's', b'o', b'o', b'n'], dtype=object)"
            ]
          },
          "metadata": {},
          "execution_count": 16
        }
      ]
    },
    {
      "cell_type": "code",
      "source": [
        "#lets decode them\n",
        "tf.strings.reduce_join([bytes.decode(x) for x in num_to_char(alignments.numpy()).numpy()])"
      ],
      "metadata": {
        "colab": {
          "base_uri": "https://localhost:8080/"
        },
        "id": "9bC8FFzL-0N2",
        "outputId": "1ed9d40c-e9f4-4370-9307-ffd7ebae3032"
      },
      "execution_count": null,
      "outputs": [
        {
          "output_type": "execute_result",
          "data": {
            "text/plain": [
              "<tf.Tensor: shape=(), dtype=string, numpy=b'inblueatfthreesoon'>"
            ]
          },
          "metadata": {},
          "execution_count": 17
        }
      ]
    },
    {
      "cell_type": "code",
      "source": [
        "#Now let's create a mappable function for string processing which will be used in datapipelines\n",
        "def mappable_function(path:str)->List[str]:\n",
        "  res=tf.py_function(load_data,[path],[tf.float32,tf.int64])\n",
        "  return res"
      ],
      "metadata": {
        "id": "T_ThZDKi-0Qd"
      },
      "execution_count": null,
      "outputs": []
    },
    {
      "cell_type": "code",
      "source": [],
      "metadata": {
        "id": "QCzk0s_J-0Sz"
      },
      "execution_count": null,
      "outputs": []
    },
    {
      "cell_type": "markdown",
      "source": [
        "# **Data Pipelines to NN**"
      ],
      "metadata": {
        "id": "pmX6o8ek-jAm"
      }
    },
    {
      "cell_type": "code",
      "source": [
        "#Through datapipeline, tf will be used train the model by drawing random samples from data to complete one training step\n",
        "data=tf.data.Dataset.list_files('data/s*/*.mpg')\n",
        "#shuffle first 500 and return any one out of them\n",
        "data=data.shuffle(500,reshuffle_each_iteration=False)\n",
        "#use mappable function to create two vid and align paths for selected path\n",
        "data=data.map(mappable_function)\n"
      ],
      "metadata": {
        "id": "RPilVSID-pnb"
      },
      "execution_count": null,
      "outputs": []
    },
    {
      "cell_type": "code",
      "source": [
        "frames,alignments=data.as_numpy_iterator().next()\n",
        "alignments\n",
        "#every time the length of aligmnets will be different, so lets padd them to a specific length"
      ],
      "metadata": {
        "colab": {
          "base_uri": "https://localhost:8080/"
        },
        "id": "R9JzFRXKqiC4",
        "outputId": "ed0c1d72-80da-4c1d-fea7-30967c029ae2"
      },
      "execution_count": null,
      "outputs": [
        {
          "output_type": "execute_result",
          "data": {
            "text/plain": [
              "array([12,  1,  3,  5,  7, 18,  5,  5, 14,  1, 20,  5, 26,  5, 18, 15, 16,\n",
              "       12,  5,  1, 19,  5])"
            ]
          },
          "metadata": {},
          "execution_count": 20
        }
      ]
    },
    {
      "cell_type": "code",
      "source": [
        "#create a batch of 2 videos and 2 alignments\n",
        "#no padding in video, make len of alignment to 40, if less than 40 values are 0\n",
        "data=data.padded_batch(2,padded_shapes=([75,None,None,None],[40]))\n",
        "#optimize our datapipeline\n",
        "data=data.prefetch(tf.data.AUTOTUNE)\n",
        "#splitting data\n",
        "train=data.take(450)\n",
        "test=data.skip(450)"
      ],
      "metadata": {
        "id": "EF8ipoFjqqQK"
      },
      "execution_count": null,
      "outputs": []
    },
    {
      "cell_type": "code",
      "source": [
        "frames,alignments=data.as_numpy_iterator().next()\n",
        "len(alignments)"
      ],
      "metadata": {
        "colab": {
          "base_uri": "https://localhost:8080/"
        },
        "id": "YPhrTq6Irr3J",
        "outputId": "0f3dadbd-2037-4cdd-8743-2dab7f0f4020"
      },
      "execution_count": null,
      "outputs": [
        {
          "output_type": "execute_result",
          "data": {
            "text/plain": [
              "2"
            ]
          },
          "metadata": {},
          "execution_count": 22
        }
      ]
    },
    {
      "cell_type": "code",
      "source": [
        "#take a test data from data\n",
        "test_data=data.as_numpy_iterator()\n",
        "val=test_data.next()\n",
        "#get frames\n",
        "val[0][0].shape"
      ],
      "metadata": {
        "colab": {
          "base_uri": "https://localhost:8080/"
        },
        "id": "TE4_tw3Gr0T6",
        "outputId": "11b075a0-f8a6-4ce0-9c4e-27190648dd8a"
      },
      "execution_count": null,
      "outputs": [
        {
          "output_type": "execute_result",
          "data": {
            "text/plain": [
              "(75, 46, 140, 1)"
            ]
          },
          "metadata": {},
          "execution_count": 23
        }
      ]
    },
    {
      "cell_type": "code",
      "source": [
        "plt.imshow(val[0][0][0])#in videos batch - first video - first frame"
      ],
      "metadata": {
        "colab": {
          "base_uri": "https://localhost:8080/",
          "height": 244
        },
        "id": "446ihcjqv619",
        "outputId": "f2368577-9e26-4985-8bfd-8b088dc4401d"
      },
      "execution_count": null,
      "outputs": [
        {
          "output_type": "execute_result",
          "data": {
            "text/plain": [
              "<matplotlib.image.AxesImage at 0x7fb2944dbb80>"
            ]
          },
          "metadata": {},
          "execution_count": 24
        },
        {
          "output_type": "display_data",
          "data": {
            "text/plain": [
              "<Figure size 640x480 with 1 Axes>"
            ],
            "image/png": "[encoded data removed]"
          },
          "metadata": {}
        }
      ]
    },
    {
      "cell_type": "code",
      "source": [
        "#Check aligments too\n",
        "tf.strings.reduce_join([num_to_char(word) for word in val[1][0]])"
      ],
      "metadata": {
        "colab": {
          "base_uri": "https://localhost:8080/"
        },
        "id": "J9-eBJeHzYtQ",
        "outputId": "155640e0-9a64-486f-9219-532db4fe8ba7"
      },
      "execution_count": null,
      "outputs": [
        {
          "output_type": "execute_result",
          "data": {
            "text/plain": [
              "<tf.Tensor: shape=(), dtype=string, numpy=b'ayredbyeeightplease'>"
            ]
          },
          "metadata": {},
          "execution_count": 25
        }
      ]
    },
    {
      "cell_type": "code",
      "source": [
        "#convert the array to gif\n",
        "!pip install imageio==2.23.0\n",
        "imageio.mimsave('/content/test.gif',val[0][0],fps=10) #takes 2 video instance of the bacth\n",
        "#we'll pass this through out neural network"
      ],
      "metadata": {
        "id": "7p1kdzwcu9kn",
        "colab": {
          "base_uri": "https://localhost:8080/"
        },
        "outputId": "0358e545-fb25-4d84-8824-75cef5b6ffa4"
      },
      "execution_count": null,
      "outputs": [
        {
          "output_type": "stream",
          "name": "stdout",
          "text": [
            "Requirement already satisfied: imageio==2.23.0 in /usr/local/lib/python3.10/dist-packages (2.23.0)\n",
            "Requirement already satisfied: numpy in /usr/local/lib/python3.10/dist-packages (from imageio==2.23.0) (1.25.2)\n",
            "Requirement already satisfied: pillow>=8.3.2 in /usr/local/lib/python3.10/dist-packages (from imageio==2.23.0) (9.4.0)\n"
          ]
        },
        {
          "output_type": "stream",
          "name": "stderr",
          "text": [
            "WARNING:imageio:Lossy conversion from float32 to uint8. Range [0.0, 9.787199974060059]. Convert image to uint8 prior to saving to suppress this warning.\n",
            "WARNING:imageio:Lossy conversion from float32 to uint8. Range [0.0, 9.787199974060059]. Convert image to uint8 prior to saving to suppress this warning.\n",
            "WARNING:imageio:Lossy conversion from float32 to uint8. Range [0.0, 9.787199974060059]. Convert image to uint8 prior to saving to suppress this warning.\n",
            "WARNING:imageio:Lossy conversion from float32 to uint8. Range [0.0, 9.787199974060059]. Convert image to uint8 prior to saving to suppress this warning.\n",
            "WARNING:imageio:Lossy conversion from float32 to uint8. Range [0.0, 9.787199974060059]. Convert image to uint8 prior to saving to suppress this warning.\n",
            "WARNING:imageio:Lossy conversion from float32 to uint8. Range [0.0, 9.787199974060059]. Convert image to uint8 prior to saving to suppress this warning.\n",
            "WARNING:imageio:Lossy conversion from float32 to uint8. Range [0.0, 9.787199974060059]. Convert image to uint8 prior to saving to suppress this warning.\n",
            "WARNING:imageio:Lossy conversion from float32 to uint8. Range [0.0, 9.787199974060059]. Convert image to uint8 prior to saving to suppress this warning.\n",
            "WARNING:imageio:Lossy conversion from float32 to uint8. Range [0.0, 9.787199974060059]. Convert image to uint8 prior to saving to suppress this warning.\n",
            "WARNING:imageio:Lossy conversion from float32 to uint8. Range [0.0, 9.787199974060059]. Convert image to uint8 prior to saving to suppress this warning.\n",
            "WARNING:imageio:Lossy conversion from float32 to uint8. Range [0.0, 9.787199974060059]. Convert image to uint8 prior to saving to suppress this warning.\n",
            "WARNING:imageio:Lossy conversion from float32 to uint8. Range [0.0, 9.787199974060059]. Convert image to uint8 prior to saving to suppress this warning.\n",
            "WARNING:imageio:Lossy conversion from float32 to uint8. Range [0.0, 9.787199974060059]. Convert image to uint8 prior to saving to suppress this warning.\n",
            "WARNING:imageio:Lossy conversion from float32 to uint8. Range [0.0, 9.787199974060059]. Convert image to uint8 prior to saving to suppress this warning.\n",
            "WARNING:imageio:Lossy conversion from float32 to uint8. Range [0.0, 9.787199974060059]. Convert image to uint8 prior to saving to suppress this warning.\n",
            "WARNING:imageio:Lossy conversion from float32 to uint8. Range [0.0, 9.787199974060059]. Convert image to uint8 prior to saving to suppress this warning.\n",
            "WARNING:imageio:Lossy conversion from float32 to uint8. Range [0.0, 9.787199974060059]. Convert image to uint8 prior to saving to suppress this warning.\n",
            "WARNING:imageio:Lossy conversion from float32 to uint8. Range [0.0, 9.787199974060059]. Convert image to uint8 prior to saving to suppress this warning.\n",
            "WARNING:imageio:Lossy conversion from float32 to uint8. Range [0.0, 9.787199974060059]. Convert image to uint8 prior to saving to suppress this warning.\n",
            "WARNING:imageio:Lossy conversion from float32 to uint8. Range [0.0, 9.787199974060059]. Convert image to uint8 prior to saving to suppress this warning.\n",
            "WARNING:imageio:Lossy conversion from float32 to uint8. Range [0.0, 9.787199974060059]. Convert image to uint8 prior to saving to suppress this warning.\n",
            "WARNING:imageio:Lossy conversion from float32 to uint8. Range [0.0, 9.787199974060059]. Convert image to uint8 prior to saving to suppress this warning.\n",
            "WARNING:imageio:Lossy conversion from float32 to uint8. Range [0.0, 9.787199974060059]. Convert image to uint8 prior to saving to suppress this warning.\n",
            "WARNING:imageio:Lossy conversion from float32 to uint8. Range [0.0, 9.787199974060059]. Convert image to uint8 prior to saving to suppress this warning.\n",
            "WARNING:imageio:Lossy conversion from float32 to uint8. Range [0.0, 9.787199974060059]. Convert image to uint8 prior to saving to suppress this warning.\n",
            "WARNING:imageio:Lossy conversion from float32 to uint8. Range [0.0, 9.787199974060059]. Convert image to uint8 prior to saving to suppress this warning.\n",
            "WARNING:imageio:Lossy conversion from float32 to uint8. Range [0.0, 9.787199974060059]. Convert image to uint8 prior to saving to suppress this warning.\n",
            "WARNING:imageio:Lossy conversion from float32 to uint8. Range [0.0, 9.787199974060059]. Convert image to uint8 prior to saving to suppress this warning.\n",
            "WARNING:imageio:Lossy conversion from float32 to uint8. Range [0.0, 9.787199974060059]. Convert image to uint8 prior to saving to suppress this warning.\n",
            "WARNING:imageio:Lossy conversion from float32 to uint8. Range [0.0, 9.787199974060059]. Convert image to uint8 prior to saving to suppress this warning.\n",
            "WARNING:imageio:Lossy conversion from float32 to uint8. Range [0.0, 9.787199974060059]. Convert image to uint8 prior to saving to suppress this warning.\n",
            "WARNING:imageio:Lossy conversion from float32 to uint8. Range [0.0, 9.787199974060059]. Convert image to uint8 prior to saving to suppress this warning.\n",
            "WARNING:imageio:Lossy conversion from float32 to uint8. Range [0.0, 9.787199974060059]. Convert image to uint8 prior to saving to suppress this warning.\n",
            "WARNING:imageio:Lossy conversion from float32 to uint8. Range [0.0, 9.787199974060059]. Convert image to uint8 prior to saving to suppress this warning.\n",
            "WARNING:imageio:Lossy conversion from float32 to uint8. Range [0.0, 9.787199974060059]. Convert image to uint8 prior to saving to suppress this warning.\n",
            "WARNING:imageio:Lossy conversion from float32 to uint8. Range [0.0, 9.787199974060059]. Convert image to uint8 prior to saving to suppress this warning.\n",
            "WARNING:imageio:Lossy conversion from float32 to uint8. Range [0.0, 9.787199974060059]. Convert image to uint8 prior to saving to suppress this warning.\n",
            "WARNING:imageio:Lossy conversion from float32 to uint8. Range [0.0, 9.787199974060059]. Convert image to uint8 prior to saving to suppress this warning.\n",
            "WARNING:imageio:Lossy conversion from float32 to uint8. Range [0.0, 9.787199974060059]. Convert image to uint8 prior to saving to suppress this warning.\n",
            "WARNING:imageio:Lossy conversion from float32 to uint8. Range [0.0, 9.787199974060059]. Convert image to uint8 prior to saving to suppress this warning.\n",
            "WARNING:imageio:Lossy conversion from float32 to uint8. Range [0.0, 9.787199974060059]. Convert image to uint8 prior to saving to suppress this warning.\n",
            "WARNING:imageio:Lossy conversion from float32 to uint8. Range [0.0, 9.787199974060059]. Convert image to uint8 prior to saving to suppress this warning.\n",
            "WARNING:imageio:Lossy conversion from float32 to uint8. Range [0.0, 9.787199974060059]. Convert image to uint8 prior to saving to suppress this warning.\n",
            "WARNING:imageio:Lossy conversion from float32 to uint8. Range [0.0, 9.787199974060059]. Convert image to uint8 prior to saving to suppress this warning.\n",
            "WARNING:imageio:Lossy conversion from float32 to uint8. Range [0.0, 9.787199974060059]. Convert image to uint8 prior to saving to suppress this warning.\n",
            "WARNING:imageio:Lossy conversion from float32 to uint8. Range [0.0, 9.787199974060059]. Convert image to uint8 prior to saving to suppress this warning.\n",
            "WARNING:imageio:Lossy conversion from float32 to uint8. Range [0.0, 9.787199974060059]. Convert image to uint8 prior to saving to suppress this warning.\n",
            "WARNING:imageio:Lossy conversion from float32 to uint8. Range [0.0, 9.787199974060059]. Convert image to uint8 prior to saving to suppress this warning.\n",
            "WARNING:imageio:Lossy conversion from float32 to uint8. Range [0.0, 9.787199974060059]. Convert image to uint8 prior to saving to suppress this warning.\n",
            "WARNING:imageio:Lossy conversion from float32 to uint8. Range [0.0, 9.787199974060059]. Convert image to uint8 prior to saving to suppress this warning.\n",
            "WARNING:imageio:Lossy conversion from float32 to uint8. Range [0.0, 9.787199974060059]. Convert image to uint8 prior to saving to suppress this warning.\n",
            "WARNING:imageio:Lossy conversion from float32 to uint8. Range [0.0, 9.787199974060059]. Convert image to uint8 prior to saving to suppress this warning.\n",
            "WARNING:imageio:Lossy conversion from float32 to uint8. Range [0.0, 9.787199974060059]. Convert image to uint8 prior to saving to suppress this warning.\n",
            "WARNING:imageio:Lossy conversion from float32 to uint8. Range [0.0, 9.787199974060059]. Convert image to uint8 prior to saving to suppress this warning.\n",
            "WARNING:imageio:Lossy conversion from float32 to uint8. Range [0.0, 9.787199974060059]. Convert image to uint8 prior to saving to suppress this warning.\n",
            "WARNING:imageio:Lossy conversion from float32 to uint8. Range [0.0, 9.787199974060059]. Convert image to uint8 prior to saving to suppress this warning.\n",
            "WARNING:imageio:Lossy conversion from float32 to uint8. Range [0.0, 9.787199974060059]. Convert image to uint8 prior to saving to suppress this warning.\n",
            "WARNING:imageio:Lossy conversion from float32 to uint8. Range [0.0, 9.787199974060059]. Convert image to uint8 prior to saving to suppress this warning.\n",
            "WARNING:imageio:Lossy conversion from float32 to uint8. Range [0.0, 9.787199974060059]. Convert image to uint8 prior to saving to suppress this warning.\n",
            "WARNING:imageio:Lossy conversion from float32 to uint8. Range [0.0, 9.787199974060059]. Convert image to uint8 prior to saving to suppress this warning.\n",
            "WARNING:imageio:Lossy conversion from float32 to uint8. Range [0.0, 9.787199974060059]. Convert image to uint8 prior to saving to suppress this warning.\n",
            "WARNING:imageio:Lossy conversion from float32 to uint8. Range [0.0, 9.787199974060059]. Convert image to uint8 prior to saving to suppress this warning.\n",
            "WARNING:imageio:Lossy conversion from float32 to uint8. Range [0.0, 9.787199974060059]. Convert image to uint8 prior to saving to suppress this warning.\n",
            "WARNING:imageio:Lossy conversion from float32 to uint8. Range [0.0, 9.787199974060059]. Convert image to uint8 prior to saving to suppress this warning.\n",
            "WARNING:imageio:Lossy conversion from float32 to uint8. Range [0.0, 9.787199974060059]. Convert image to uint8 prior to saving to suppress this warning.\n",
            "WARNING:imageio:Lossy conversion from float32 to uint8. Range [0.0, 9.787199974060059]. Convert image to uint8 prior to saving to suppress this warning.\n",
            "WARNING:imageio:Lossy conversion from float32 to uint8. Range [0.0, 9.787199974060059]. Convert image to uint8 prior to saving to suppress this warning.\n",
            "WARNING:imageio:Lossy conversion from float32 to uint8. Range [0.0, 9.787199974060059]. Convert image to uint8 prior to saving to suppress this warning.\n",
            "WARNING:imageio:Lossy conversion from float32 to uint8. Range [0.0, 9.787199974060059]. Convert image to uint8 prior to saving to suppress this warning.\n",
            "WARNING:imageio:Lossy conversion from float32 to uint8. Range [0.0, 9.787199974060059]. Convert image to uint8 prior to saving to suppress this warning.\n",
            "WARNING:imageio:Lossy conversion from float32 to uint8. Range [0.0, 9.787199974060059]. Convert image to uint8 prior to saving to suppress this warning.\n",
            "WARNING:imageio:Lossy conversion from float32 to uint8. Range [0.0, 9.787199974060059]. Convert image to uint8 prior to saving to suppress this warning.\n",
            "WARNING:imageio:Lossy conversion from float32 to uint8. Range [0.0, 9.787199974060059]. Convert image to uint8 prior to saving to suppress this warning.\n",
            "WARNING:imageio:Lossy conversion from float32 to uint8. Range [0.0, 9.787199974060059]. Convert image to uint8 prior to saving to suppress this warning.\n",
            "WARNING:imageio:Lossy conversion from float32 to uint8. Range [0.0, 9.787199974060059]. Convert image to uint8 prior to saving to suppress this warning.\n"
          ]
        }
      ]
    },
    {
      "cell_type": "code",
      "source": [],
      "metadata": {
        "id": "MTMJzG691VWQ"
      },
      "execution_count": null,
      "outputs": []
    },
    {
      "cell_type": "code",
      "source": [],
      "metadata": {
        "id": "xUfmUeez2Q3g"
      },
      "execution_count": null,
      "outputs": []
    },
    {
      "cell_type": "markdown",
      "source": [
        "# **Design NN**"
      ],
      "metadata": {
        "id": "cxKXjWOB3IfA"
      }
    },
    {
      "cell_type": "code",
      "source": [
        "#we'll use 3D conv layers to pass videos and condense it down to a classification dense layer which predicts char\n",
        "#we'll use a special loss func called CTC loss func\n",
        "#we'll use this loss func when we don't have word transriptions that aren't aligned to frames - it reduces the dupicates\n",
        "from keras.models import Sequential\n",
        "from keras.layers import Conv3D,Dense,LSTM,MaxPool3D,Flatten,Dropout,Bidirectional,Activation,Reshape,SpatialDropout3D,TimeDistributed,Flatten\n",
        "from keras.optimizers import Adam\n",
        "from keras.callbacks import ModelCheckpoint,LearningRateScheduler"
      ],
      "metadata": {
        "id": "F80uzY2Z3Nzv"
      },
      "execution_count": null,
      "outputs": []
    },
    {
      "cell_type": "code",
      "source": [],
      "metadata": {
        "id": "qwUkRYZ1EoAY"
      },
      "execution_count": null,
      "outputs": []
    },
    {
      "cell_type": "code",
      "source": [
        "model = Sequential()\n",
        "model.add(Conv3D(128, 3, input_shape=(75,46,140,1), padding='same'))\n",
        "model.add(Activation('relu'))\n",
        "model.add(MaxPool3D((1,2,2)))\n",
        "\n",
        "model.add(Conv3D(256, 3, padding='same'))\n",
        "model.add(Activation('relu'))\n",
        "model.add(MaxPool3D((1,2,2)))\n",
        "\n",
        "model.add(Conv3D(75, 3, padding='same'))\n",
        "model.add(Activation('relu'))\n",
        "model.add(MaxPool3D((1,2,2)))\n",
        "\n",
        "model.add(TimeDistributed(Flatten()))\n",
        "#lstm layer 1 , orthogonal initializer as Lipnet paper uses this\n",
        "model.add(Bidirectional(LSTM(128, kernel_initializer='Orthogonal', return_sequences=True)))\n",
        "model.add(Dropout(.5))\n",
        "#lstm layer 2\n",
        "model.add(Bidirectional(LSTM(128, kernel_initializer='Orthogonal', return_sequences=True)))\n",
        "model.add(Dropout(.5))\n",
        "\n",
        "model.add(Dense(char_to_num.vocabulary_size()+1, kernel_initializer='he_normal', activation='softmax'))\n",
        "# The Conv3D layers extract spatial features, while the Bidirectional LSTM layers capture temporal dependencies in the sequence data."
      ],
      "metadata": {
        "id": "k7_12CvP5fej"
      },
      "execution_count": null,
      "outputs": []
    },
    {
      "cell_type": "code",
      "source": [
        "model.summary()\n",
        "#o/p will be 75,41 - 75 frames and 41 o/ps which are one hot encoded representation of our char"
      ],
      "metadata": {
        "colab": {
          "base_uri": "https://localhost:8080/"
        },
        "id": "-zt8MbOZDI92",
        "outputId": "b0ea47f3-7a65-48b2-d23a-5de69288a827"
      },
      "execution_count": null,
      "outputs": [
        {
          "output_type": "stream",
          "name": "stdout",
          "text": [
            "Model: \"sequential\"\n",
            "_________________________________________________________________\n",
            " Layer (type)                Output Shape              Param #   \n",
            "=================================================================\n",
            " conv3d (Conv3D)             (None, 75, 46, 140, 128   3584      \n",
            "                             )                                   \n",
            "                                                                 \n",
            " activation (Activation)     (None, 75, 46, 140, 128   0         \n",
            "                             )                                   \n",
            "                                                                 \n",
            " max_pooling3d (MaxPooling3  (None, 75, 23, 70, 128)   0         \n",
            " D)                                                              \n",
            "                                                                 \n",
            " conv3d_1 (Conv3D)           (None, 75, 23, 70, 256)   884992    \n",
            "                                                                 \n",
            " activation_1 (Activation)   (None, 75, 23, 70, 256)   0         \n",
            "                                                                 \n",
            " max_pooling3d_1 (MaxPoolin  (None, 75, 11, 35, 256)   0         \n",
            " g3D)                                                            \n",
            "                                                                 \n",
            " conv3d_2 (Conv3D)           (None, 75, 11, 35, 75)    518475    \n",
            "                                                                 \n",
            " activation_2 (Activation)   (None, 75, 11, 35, 75)    0         \n",
            "                                                                 \n",
            " max_pooling3d_2 (MaxPoolin  (None, 75, 5, 17, 75)     0         \n",
            " g3D)                                                            \n",
            "                                                                 \n",
            " time_distributed (TimeDist  (None, 75, 6375)          0         \n",
            " ributed)                                                        \n",
            "                                                                 \n",
            " bidirectional (Bidirection  (None, 75, 256)           6660096   \n",
            " al)                                                             \n",
            "                                                                 \n",
            " dropout (Dropout)           (None, 75, 256)           0         \n",
            "                                                                 \n",
            " bidirectional_1 (Bidirecti  (None, 75, 256)           394240    \n",
            " onal)                                                           \n",
            "                                                                 \n",
            " dropout_1 (Dropout)         (None, 75, 256)           0         \n",
            "                                                                 \n",
            " dense (Dense)               (None, 75, 41)            10537     \n",
            "                                                                 \n",
            "=================================================================\n",
            "Total params: 8471924 (32.32 MB)\n",
            "Trainable params: 8471924 (32.32 MB)\n",
            "Non-trainable params: 0 (0.00 Byte)\n",
            "_________________________________________________________________\n"
          ]
        }
      ]
    },
    {
      "cell_type": "code",
      "source": [
        "model.input_shape"
      ],
      "metadata": {
        "colab": {
          "base_uri": "https://localhost:8080/"
        },
        "id": "lyrmfnvLHXBM",
        "outputId": "c5e2dc37-7e84-49c4-ff3d-b3bfc2a89a3e"
      },
      "execution_count": null,
      "outputs": [
        {
          "output_type": "execute_result",
          "data": {
            "text/plain": [
              "(None, 75, 46, 140, 1)"
            ]
          },
          "metadata": {},
          "execution_count": 30
        }
      ]
    },
    {
      "cell_type": "code",
      "source": [
        "model.output_shape"
      ],
      "metadata": {
        "colab": {
          "base_uri": "https://localhost:8080/"
        },
        "id": "jRW4sW7SHdBp",
        "outputId": "b1c8de30-1467-4348-a914-60ea575ed01f"
      },
      "execution_count": null,
      "outputs": [
        {
          "output_type": "execute_result",
          "data": {
            "text/plain": [
              "(None, 75, 41)"
            ]
          },
          "metadata": {},
          "execution_count": 31
        }
      ]
    },
    {
      "cell_type": "code",
      "source": [
        "#let's predict for sample i/p\n",
        "samppred=model.predict(val[0])"
      ],
      "metadata": {
        "colab": {
          "base_uri": "https://localhost:8080/"
        },
        "id": "zsCx1f3jEeXr",
        "outputId": "d67c239e-3f3d-4185-81da-c61163ffb3f4"
      },
      "execution_count": null,
      "outputs": [
        {
          "output_type": "stream",
          "name": "stdout",
          "text": [
            "1/1 [==============================] - 22s 22s/step\n"
          ]
        }
      ]
    },
    {
      "cell_type": "code",
      "source": [
        "#let's decodde what our model is predicting\n",
        "tf.strings.reduce_join([num_to_char(tf.argmax(x)) for x in samppred[0]])"
      ],
      "metadata": {
        "colab": {
          "base_uri": "https://localhost:8080/"
        },
        "id": "mKjTW4ZhGVA0",
        "outputId": "01801478-0f4b-4644-d9ef-ca51bc45e1bf"
      },
      "execution_count": null,
      "outputs": [
        {
          "output_type": "execute_result",
          "data": {
            "text/plain": [
              "<tf.Tensor: shape=(), dtype=string, numpy=b'xxxxyyyyyyyyyyyyyyyyyyyyyyyyyyyyyyyyyyy999yffffffffffffffffffffffffffffffff'>"
            ]
          },
          "metadata": {},
          "execution_count": 33
        }
      ]
    },
    {
      "cell_type": "code",
      "source": [
        "# Define the directory and file names\n",
        "#code for h5 conversion\n",
        "checkpoint_dir = '/content/mcheckpoints/checkpoints'  # Update this path\n",
        "checkpoint_prefix = 'checkpoint'\n",
        "\n",
        "# Load the model architecture (replace this with your actual model architecture)\n",
        "\n",
        "\n",
        "# Load the checkpoint\n",
        "checkpoint = tf.train.Checkpoint(model=model)\n",
        "checkpoint.restore(tf.train.latest_checkpoint(checkpoint_dir)).expect_partial()\n",
        "\n",
        "# Save the model as .h5\n",
        "model.save('model.h5')\n",
        "\n",
        "print(\"Model saved as model.h5\")\n"
      ],
      "metadata": {
        "id": "2peJLKJ7Gq1J"
      },
      "execution_count": null,
      "outputs": []
    },
    {
      "cell_type": "markdown",
      "source": [
        "# **Start Training**"
      ],
      "metadata": {
        "id": "Aw9pPI75IbZZ"
      }
    },
    {
      "cell_type": "code",
      "source": [
        "#define a learning rate scheduler\n",
        "def scheduler(epoch,lr):\n",
        "  if epoch<30:\n",
        "    return lr\n",
        "  else:#drop the lr exponentiatlly\n",
        "    return lr*tf.math.exp(-0.1)\n"
      ],
      "metadata": {
        "id": "acnJy_piIglp"
      },
      "execution_count": null,
      "outputs": []
    },
    {
      "cell_type": "code",
      "source": [
        "#define loss func - CTC\n",
        "def CTCLoss(y_true,y_pred):\n",
        "  batch_len=tf.cast(tf.shape(y_true)[0],dtype='int64')\n",
        "  input_length=tf.cast(tf.shape(y_pred)[1],dtype='int64')\n",
        "  label_length=tf.cast(tf.shape(y_true)[1],dtype='int64')\n",
        "  input_length=input_length*tf.ones(shape=(batch_len,1),dtype='int64')\n",
        "  label_length=label_length*tf.ones(shape=(batch_len,1),dtype='int64')\n",
        "  loss=tf.keras.backend.ctc_batch_cost(y_true,y_pred,input_length,label_length)\n",
        "  #y_true-will be our align\n",
        "  #y_pred-will be one hot encoded pred\n",
        "  #input_length-will be 75\n",
        "  #label_length-will be 40\n",
        "  return loss"
      ],
      "metadata": {
        "id": "trAHdLgLJXhy"
      },
      "execution_count": null,
      "outputs": []
    },
    {
      "cell_type": "code",
      "source": [
        "#define a custom Keras callback class\n",
        "class ProduceExample(tf.keras.callbacks.Callback):\n",
        "  def __init__(self,dataset)->None:\n",
        "    #the callback is initialized with a dataset argument.\n",
        "    self.dataset=dataset.as_numpy_iterator()\n",
        "  #callback method that gets called at the end of each epoch\n",
        "  #epoch represents the current epoch number and logs contains the training metrics from the current epoch.\n",
        "  def on_epoch_end(self,epoch,logs=None)-> None:\n",
        "    #next() to get the next batch of data\n",
        "    data=self.dataset.next()\n",
        "    #self.model predicts the output based on the input data (data[0]). The predictions are stored in the yhat variable.\n",
        "    yhat=self.model.predict(data[0])\n",
        "    #greedy=False argument indicates that beam search decoding should be used instead of greedy decoding\n",
        "    decoded=tf.keras.backend.ctc_decode(yhat,[75,75],greedy=False)[0][0].numpy()\n",
        "    for x in range(len(yhat)):\n",
        "       print('Original:', tf.strings.reduce_join(num_to_char(data[1][x])).numpy().decode('utf-8'))\n",
        "       print('Prediction:', tf.strings.reduce_join(num_to_char(decoded[x])).numpy().decode('utf-8'))\n",
        "       #a line of ~ characters is printed to visually separate each prediction and its corresponding original label\n",
        "       print('~'*100)"
      ],
      "metadata": {
        "id": "prVCvnA5JXwf"
      },
      "execution_count": null,
      "outputs": []
    },
    {
      "cell_type": "code",
      "source": [
        "model.compile(optimizer=tf.keras.optimizers.legacy.Adam(learning_rate=0.0001), loss=CTCLoss)"
      ],
      "metadata": {
        "id": "sIrHMpRJJX3q"
      },
      "execution_count": null,
      "outputs": []
    },
    {
      "cell_type": "code",
      "source": [
        "#Define callbacks\n",
        "checkpoint_callback = ModelCheckpoint(os.path.join('models','checkpoint'), monitor='loss', save_weights_only=True)"
      ],
      "metadata": {
        "id": "3s1KzGv0JX6R"
      },
      "execution_count": null,
      "outputs": []
    },
    {
      "cell_type": "code",
      "source": [
        "schedule_callback = LearningRateScheduler(scheduler)"
      ],
      "metadata": {
        "id": "wqdrc1-lSdNQ"
      },
      "execution_count": null,
      "outputs": []
    },
    {
      "cell_type": "code",
      "source": [
        "example_callback = ProduceExample(test) #to check how our model is predicting at each epoch"
      ],
      "metadata": {
        "id": "N7qLxyYNSmou"
      },
      "execution_count": null,
      "outputs": []
    },
    {
      "cell_type": "code",
      "source": [
        "# #fit the model\n",
        "# model.fit(train, validation_data=test, epochs=100, callbacks=[checkpoint_callback, schedule_callback, example_callback])\n"
      ],
      "metadata": {
        "id": "uqmiELpdS2ka"
      },
      "execution_count": null,
      "outputs": []
    },
    {
      "cell_type": "markdown",
      "source": [
        "# **Start Testing**"
      ],
      "metadata": {
        "id": "BEwSaSwNYXVQ"
      }
    },
    {
      "cell_type": "code",
      "source": [
        "#load the checkpoint\n",
        "model.load_weights('model_checkpoints/checkpoints/checkpoint')"
      ],
      "metadata": {
        "colab": {
          "base_uri": "https://localhost:8080/"
        },
        "id": "eFUWWtMGYieV",
        "outputId": "304e65df-7c3b-4262-f0a8-8954dc2ec72c"
      },
      "execution_count": null,
      "outputs": [
        {
          "output_type": "execute_result",
          "data": {
            "text/plain": [
              "<tensorflow.python.checkpoint.checkpoint.CheckpointLoadStatus at 0x7fb29f6f8490>"
            ]
          },
          "metadata": {},
          "execution_count": 48
        }
      ]
    },
    {
      "cell_type": "code",
      "source": [
        "test_data=test.as_numpy_iterator()"
      ],
      "metadata": {
        "id": "KxlpfbzCa1qy"
      },
      "execution_count": null,
      "outputs": []
    },
    {
      "cell_type": "code",
      "source": [
        "sampledata=test_data.next()"
      ],
      "metadata": {
        "id": "hcVjo46cbpGX"
      },
      "execution_count": null,
      "outputs": []
    },
    {
      "cell_type": "code",
      "source": [
        "sampledata"
      ],
      "metadata": {
        "colab": {
          "base_uri": "https://localhost:8080/"
        },
        "id": "sGdm8RHwbpQm",
        "outputId": "1f147b6e-4ef1-4faa-e07a-677ee4067621"
      },
      "execution_count": null,
      "outputs": [
        {
          "output_type": "execute_result",
          "data": {
            "text/plain": [
              "(array([[[[[ 1.182049  ],\n",
              "           [ 1.182049  ],\n",
              "           [ 0.72448164],\n",
              "           ...,\n",
              "           [ 0.38130614],\n",
              "           [ 0.38130614],\n",
              "           [ 0.38130614]],\n",
              " \n",
              "          [[ 1.1439184 ],\n",
              "           [ 1.1057878 ],\n",
              "           [ 0.26691428],\n",
              "           ...,\n",
              "           [ 0.38130614],\n",
              "           [ 0.38130614],\n",
              "           [ 0.38130614]],\n",
              " \n",
              "          [[ 1.4108326 ],\n",
              "           [ 1.3727021 ],\n",
              "           [ 1.0676571 ],\n",
              "           ...,\n",
              "           [ 0.38130614],\n",
              "           [ 0.34317553],\n",
              "           [ 0.34317553]],\n",
              " \n",
              "          ...,\n",
              " \n",
              "          [[ 1.2201797 ],\n",
              "           [ 1.1439184 ],\n",
              "           [ 1.1439184 ],\n",
              "           ...,\n",
              "           [ 0.07626123],\n",
              "           [ 0.07626123],\n",
              "           [ 0.07626123]],\n",
              " \n",
              "          [[ 1.1439184 ],\n",
              "           [ 1.1439184 ],\n",
              "           [ 1.1439184 ],\n",
              "           ...,\n",
              "           [ 0.07626123],\n",
              "           [ 0.07626123],\n",
              "           [ 0.07626123]],\n",
              " \n",
              "          [[ 1.1439184 ],\n",
              "           [ 1.1439184 ],\n",
              "           [ 1.1439184 ],\n",
              "           ...,\n",
              "           [ 0.07626123],\n",
              "           [ 0.07626123],\n",
              "           [ 0.03813061]]],\n",
              " \n",
              " \n",
              "         [[[ 1.2583102 ],\n",
              "           [ 1.2201797 ],\n",
              "           [ 0.6482204 ],\n",
              "           ...,\n",
              "           [ 0.38130614],\n",
              "           [ 0.30504492],\n",
              "           [ 0.30504492]],\n",
              " \n",
              "          [[ 1.2201797 ],\n",
              "           [ 1.182049  ],\n",
              "           [ 0.34317553],\n",
              "           ...,\n",
              "           [ 0.38130614],\n",
              "           [ 0.30504492],\n",
              "           [ 0.30504492]],\n",
              " \n",
              "          [[ 1.4489633 ],\n",
              "           [ 1.4489633 ],\n",
              "           [ 1.0295266 ],\n",
              "           ...,\n",
              "           [ 0.34317553],\n",
              "           [ 0.34317553],\n",
              "           [ 0.34317553]],\n",
              " \n",
              "          ...,\n",
              " \n",
              "          [[ 1.1439184 ],\n",
              "           [ 1.1057878 ],\n",
              "           [ 1.1057878 ],\n",
              "           ...,\n",
              "           [ 0.07626123],\n",
              "           [ 0.07626123],\n",
              "           [ 0.07626123]],\n",
              " \n",
              "          [[ 1.1057878 ],\n",
              "           [ 1.1057878 ],\n",
              "           [ 1.1057878 ],\n",
              "           ...,\n",
              "           [ 0.07626123],\n",
              "           [ 0.07626123],\n",
              "           [ 0.07626123]],\n",
              " \n",
              "          [[ 1.1057878 ],\n",
              "           [ 1.1057878 ],\n",
              "           [ 1.1057878 ],\n",
              "           ...,\n",
              "           [ 0.07626123],\n",
              "           [ 0.07626123],\n",
              "           [ 0.03813061]]],\n",
              " \n",
              " \n",
              "         [[[ 1.2964408 ],\n",
              "           [ 1.2964408 ],\n",
              "           [ 0.68635106],\n",
              "           ...,\n",
              "           [ 0.38130614],\n",
              "           [ 0.34317553],\n",
              "           [ 0.34317553]],\n",
              " \n",
              "          [[ 1.2583102 ],\n",
              "           [ 1.182049  ],\n",
              "           [ 0.41943675],\n",
              "           ...,\n",
              "           [ 0.38130614],\n",
              "           [ 0.34317553],\n",
              "           [ 0.34317553]],\n",
              " \n",
              "          [[ 1.4108326 ],\n",
              "           [ 1.4870939 ],\n",
              "           [ 1.1057878 ],\n",
              "           ...,\n",
              "           [ 0.34317553],\n",
              "           [ 0.34317553],\n",
              "           [ 0.34317553]],\n",
              " \n",
              "          ...,\n",
              " \n",
              "          [[ 1.2201797 ],\n",
              "           [ 1.1439184 ],\n",
              "           [ 1.1439184 ],\n",
              "           ...,\n",
              "           [ 0.07626123],\n",
              "           [ 0.07626123],\n",
              "           [ 0.07626123]],\n",
              " \n",
              "          [[ 1.1439184 ],\n",
              "           [ 1.1439184 ],\n",
              "           [ 1.1439184 ],\n",
              "           ...,\n",
              "           [ 0.07626123],\n",
              "           [ 0.07626123],\n",
              "           [ 0.07626123]],\n",
              " \n",
              "          [[ 1.1439184 ],\n",
              "           [ 1.1439184 ],\n",
              "           [ 1.1439184 ],\n",
              "           ...,\n",
              "           [ 0.07626123],\n",
              "           [ 0.07626123],\n",
              "           [ 0.03813061]]],\n",
              " \n",
              " \n",
              "         ...,\n",
              " \n",
              " \n",
              "         [[[ 1.1057878 ],\n",
              "           [ 1.182049  ],\n",
              "           [ 0.68635106],\n",
              "           ...,\n",
              "           [ 0.34317553],\n",
              "           [ 0.34317553],\n",
              "           [ 0.34317553]],\n",
              " \n",
              "          [[ 0.99139595],\n",
              "           [ 1.1439184 ],\n",
              "           [ 0.61008984],\n",
              "           ...,\n",
              "           [ 0.34317553],\n",
              "           [ 0.34317553],\n",
              "           [ 0.34317553]],\n",
              " \n",
              "          [[ 1.5252246 ],\n",
              "           [ 1.5252246 ],\n",
              "           [ 1.182049  ],\n",
              "           ...,\n",
              "           [ 0.34317553],\n",
              "           [ 0.34317553],\n",
              "           [ 0.34317553]],\n",
              " \n",
              "          ...,\n",
              " \n",
              "          [[ 1.1439184 ],\n",
              "           [ 1.1439184 ],\n",
              "           [ 1.1439184 ],\n",
              "           ...,\n",
              "           [ 0.11439184],\n",
              "           [ 0.07626123],\n",
              "           [ 0.03813061]],\n",
              " \n",
              "          [[ 1.1439184 ],\n",
              "           [ 1.1439184 ],\n",
              "           [ 1.1057878 ],\n",
              "           ...,\n",
              "           [ 0.07626123],\n",
              "           [ 0.07626123],\n",
              "           [ 0.03813061]],\n",
              " \n",
              "          [[ 1.0676571 ],\n",
              "           [ 1.0676571 ],\n",
              "           [ 1.1057878 ],\n",
              "           ...,\n",
              "           [ 0.03813061],\n",
              "           [ 0.03813061],\n",
              "           [ 0.        ]]],\n",
              " \n",
              " \n",
              "         [[[ 1.182049  ],\n",
              "           [ 1.2583102 ],\n",
              "           [ 0.61008984],\n",
              "           ...,\n",
              "           [ 0.34317553],\n",
              "           [ 0.34317553],\n",
              "           [ 0.34317553]],\n",
              " \n",
              "          [[ 1.182049  ],\n",
              "           [ 1.182049  ],\n",
              "           [ 0.49569798],\n",
              "           ...,\n",
              "           [ 0.34317553],\n",
              "           [ 0.34317553],\n",
              "           [ 0.34317553]],\n",
              " \n",
              "          [[ 1.4870939 ],\n",
              "           [ 1.5252246 ],\n",
              "           [ 1.1439184 ],\n",
              "           ...,\n",
              "           [ 0.38130614],\n",
              "           [ 0.34317553],\n",
              "           [ 0.34317553]],\n",
              " \n",
              "          ...,\n",
              " \n",
              "          [[ 1.1439184 ],\n",
              "           [ 1.1439184 ],\n",
              "           [ 1.1439184 ],\n",
              "           ...,\n",
              "           [ 0.11439184],\n",
              "           [ 0.07626123],\n",
              "           [ 0.07626123]],\n",
              " \n",
              "          [[ 1.1439184 ],\n",
              "           [ 1.1439184 ],\n",
              "           [ 1.1057878 ],\n",
              "           ...,\n",
              "           [ 0.11439184],\n",
              "           [ 0.07626123],\n",
              "           [ 0.03813061]],\n",
              " \n",
              "          [[ 1.1439184 ],\n",
              "           [ 1.0676571 ],\n",
              "           [ 1.1057878 ],\n",
              "           ...,\n",
              "           [ 0.07626123],\n",
              "           [ 0.03813061],\n",
              "           [ 0.03813061]]],\n",
              " \n",
              " \n",
              "         [[[ 1.182049  ],\n",
              "           [ 1.2583102 ],\n",
              "           [ 0.6482204 ],\n",
              "           ...,\n",
              "           [ 0.34317553],\n",
              "           [ 0.34317553],\n",
              "           [ 0.34317553]],\n",
              " \n",
              "          [[ 1.182049  ],\n",
              "           [ 1.2201797 ],\n",
              "           [ 0.5719592 ],\n",
              "           ...,\n",
              "           [ 0.34317553],\n",
              "           [ 0.34317553],\n",
              "           [ 0.34317553]],\n",
              " \n",
              "          [[ 1.4489633 ],\n",
              "           [ 1.4870939 ],\n",
              "           [ 1.1057878 ],\n",
              "           ...,\n",
              "           [ 0.38130614],\n",
              "           [ 0.34317553],\n",
              "           [ 0.34317553]],\n",
              " \n",
              "          ...,\n",
              " \n",
              "          [[ 1.1057878 ],\n",
              "           [ 1.1057878 ],\n",
              "           [ 1.1057878 ],\n",
              "           ...,\n",
              "           [ 0.11439184],\n",
              "           [ 0.07626123],\n",
              "           [ 0.03813061]],\n",
              " \n",
              "          [[ 1.1057878 ],\n",
              "           [ 1.0676571 ],\n",
              "           [ 1.0676571 ],\n",
              "           ...,\n",
              "           [ 0.07626123],\n",
              "           [ 0.03813061],\n",
              "           [ 0.03813061]],\n",
              " \n",
              "          [[ 1.0676571 ],\n",
              "           [ 1.0676571 ],\n",
              "           [ 1.0295266 ],\n",
              "           ...,\n",
              "           [ 0.03813061],\n",
              "           [ 0.03813061],\n",
              "           [ 0.03813061]]]],\n",
              " \n",
              " \n",
              " \n",
              "        [[[[ 1.2339853 ],\n",
              "           [ 1.3534032 ],\n",
              "           [ 1.1941793 ],\n",
              "           ...,\n",
              "           [ 0.23883587],\n",
              "           [ 0.23883587],\n",
              "           [ 0.23883587]],\n",
              " \n",
              "          [[ 1.1941793 ],\n",
              "           [ 1.3534032 ],\n",
              "           [ 1.1543734 ],\n",
              "           ...,\n",
              "           [ 0.23883587],\n",
              "           [ 0.23883587],\n",
              "           [ 0.23883587]],\n",
              " \n",
              "          [[ 1.3534032 ],\n",
              "           [ 1.1543734 ],\n",
              "           [ 0.8359255 ],\n",
              "           ...,\n",
              "           [ 0.27864185],\n",
              "           [ 0.1990299 ],\n",
              "           [ 0.1990299 ]],\n",
              " \n",
              "          ...,\n",
              " \n",
              "          [[ 1.1145674 ],\n",
              "           [ 1.1145674 ],\n",
              "           [ 1.0747614 ],\n",
              "           ...,\n",
              "           [ 0.        ],\n",
              "           [10.150524  ],\n",
              "           [10.150524  ]],\n",
              " \n",
              "          [[ 1.1145674 ],\n",
              "           [ 1.1145674 ],\n",
              "           [ 1.0349554 ],\n",
              "           ...,\n",
              "           [ 0.        ],\n",
              "           [10.150524  ],\n",
              "           [10.150524  ]],\n",
              " \n",
              "          [[ 1.1145674 ],\n",
              "           [ 1.1145674 ],\n",
              "           [ 1.0349554 ],\n",
              "           ...,\n",
              "           [ 0.        ],\n",
              "           [10.150524  ],\n",
              "           [10.150524  ]]],\n",
              " \n",
              " \n",
              "         [[[ 1.3534032 ],\n",
              "           [ 1.3534032 ],\n",
              "           [ 1.1543734 ],\n",
              "           ...,\n",
              "           [ 0.23883587],\n",
              "           [ 0.23883587],\n",
              "           [ 0.23883587]],\n",
              " \n",
              "          [[ 1.1145674 ],\n",
              "           [ 1.2339853 ],\n",
              "           [ 1.1145674 ],\n",
              "           ...,\n",
              "           [ 0.23883587],\n",
              "           [ 0.23883587],\n",
              "           [ 0.23883587]],\n",
              " \n",
              "          [[ 1.3534032 ],\n",
              "           [ 1.4330152 ],\n",
              "           [ 0.8757315 ],\n",
              "           ...,\n",
              "           [ 0.1990299 ],\n",
              "           [ 0.1990299 ],\n",
              "           [ 0.15922391]],\n",
              " \n",
              "          ...,\n",
              " \n",
              "          [[ 1.1145674 ],\n",
              "           [ 1.1145674 ],\n",
              "           [ 1.0747614 ],\n",
              "           ...,\n",
              "           [ 0.        ],\n",
              "           [10.150524  ],\n",
              "           [10.150524  ]],\n",
              " \n",
              "          [[ 1.0747614 ],\n",
              "           [ 1.0747614 ],\n",
              "           [ 1.0747614 ],\n",
              "           ...,\n",
              "           [ 0.        ],\n",
              "           [10.150524  ],\n",
              "           [10.150524  ]],\n",
              " \n",
              "          [[ 1.0747614 ],\n",
              "           [ 1.0747614 ],\n",
              "           [ 1.0747614 ],\n",
              "           ...,\n",
              "           [ 0.        ],\n",
              "           [10.150524  ],\n",
              "           [10.150524  ]]],\n",
              " \n",
              " \n",
              "         [[[ 1.4330152 ],\n",
              "           [ 1.3135973 ],\n",
              "           [ 1.3135973 ],\n",
              "           ...,\n",
              "           [ 0.1990299 ],\n",
              "           [ 0.1990299 ],\n",
              "           [ 0.1990299 ]],\n",
              " \n",
              "          [[ 1.1543734 ],\n",
              "           [ 1.3135973 ],\n",
              "           [ 1.1941793 ],\n",
              "           ...,\n",
              "           [ 0.1990299 ],\n",
              "           [ 0.1990299 ],\n",
              "           [ 0.1990299 ]],\n",
              " \n",
              "          [[ 1.3135973 ],\n",
              "           [ 1.3932092 ],\n",
              "           [ 0.8757315 ],\n",
              "           ...,\n",
              "           [ 0.1990299 ],\n",
              "           [ 0.1990299 ],\n",
              "           [ 0.15922391]],\n",
              " \n",
              "          ...,\n",
              " \n",
              "          [[ 1.1543734 ],\n",
              "           [ 1.1543734 ],\n",
              "           [ 1.1543734 ],\n",
              "           ...,\n",
              "           [10.150524  ],\n",
              "           [10.150524  ],\n",
              "           [10.110719  ]],\n",
              " \n",
              "          [[ 1.1145674 ],\n",
              "           [ 1.1145674 ],\n",
              "           [ 1.1145674 ],\n",
              "           ...,\n",
              "           [10.150524  ],\n",
              "           [10.150524  ],\n",
              "           [10.110719  ]],\n",
              " \n",
              "          [[ 1.1145674 ],\n",
              "           [ 1.1145674 ],\n",
              "           [ 1.0747614 ],\n",
              "           ...,\n",
              "           [10.150524  ],\n",
              "           [10.150524  ],\n",
              "           [10.110719  ]]],\n",
              " \n",
              " \n",
              "         ...,\n",
              " \n",
              " \n",
              "         [[[ 1.4330152 ],\n",
              "           [ 1.3534032 ],\n",
              "           [ 1.3135973 ],\n",
              "           ...,\n",
              "           [ 0.23883587],\n",
              "           [ 0.23883587],\n",
              "           [ 0.23883587]],\n",
              " \n",
              "          [[ 1.3932092 ],\n",
              "           [ 1.3932092 ],\n",
              "           [ 1.3534032 ],\n",
              "           ...,\n",
              "           [ 0.23883587],\n",
              "           [ 0.23883587],\n",
              "           [ 0.23883587]],\n",
              " \n",
              "          [[ 1.2339853 ],\n",
              "           [ 1.2737913 ],\n",
              "           [ 1.1145674 ],\n",
              "           ...,\n",
              "           [ 0.31844783],\n",
              "           [ 0.31844783],\n",
              "           [ 0.23883587]],\n",
              " \n",
              "          ...,\n",
              " \n",
              "          [[ 1.0747614 ],\n",
              "           [ 1.0747614 ],\n",
              "           [ 1.0349554 ],\n",
              "           ...,\n",
              "           [ 0.        ],\n",
              "           [ 0.        ],\n",
              "           [ 0.        ]],\n",
              " \n",
              "          [[ 1.1145674 ],\n",
              "           [ 1.1145674 ],\n",
              "           [ 1.0349554 ],\n",
              "           ...,\n",
              "           [ 0.03980598],\n",
              "           [ 0.03980598],\n",
              "           [ 0.        ]],\n",
              " \n",
              "          [[ 1.1145674 ],\n",
              "           [ 1.1145674 ],\n",
              "           [ 0.99514943],\n",
              "           ...,\n",
              "           [ 0.03980598],\n",
              "           [ 0.03980598],\n",
              "           [ 0.        ]]],\n",
              " \n",
              " \n",
              "         [[[ 1.4728212 ],\n",
              "           [ 1.3534032 ],\n",
              "           [ 1.1941793 ],\n",
              "           ...,\n",
              "           [ 0.23883587],\n",
              "           [ 0.23883587],\n",
              "           [ 0.23883587]],\n",
              " \n",
              "          [[ 1.4330152 ],\n",
              "           [ 1.3932092 ],\n",
              "           [ 1.2737913 ],\n",
              "           ...,\n",
              "           [ 0.23883587],\n",
              "           [ 0.23883587],\n",
              "           [ 0.23883587]],\n",
              " \n",
              "          [[ 1.3135973 ],\n",
              "           [ 1.2339853 ],\n",
              "           [ 1.1543734 ],\n",
              "           ...,\n",
              "           [ 0.31844783],\n",
              "           [ 0.23883587],\n",
              "           [ 0.23883587]],\n",
              " \n",
              "          ...,\n",
              " \n",
              "          [[ 1.1145674 ],\n",
              "           [ 1.1145674 ],\n",
              "           [ 1.0747614 ],\n",
              "           ...,\n",
              "           [ 0.03980598],\n",
              "           [ 0.03980598],\n",
              "           [ 0.        ]],\n",
              " \n",
              "          [[ 1.1145674 ],\n",
              "           [ 1.1145674 ],\n",
              "           [ 1.1145674 ],\n",
              "           ...,\n",
              "           [ 0.03980598],\n",
              "           [ 0.03980598],\n",
              "           [ 0.03980598]],\n",
              " \n",
              "          [[ 1.1145674 ],\n",
              "           [ 1.0747614 ],\n",
              "           [ 1.0747614 ],\n",
              "           ...,\n",
              "           [ 0.03980598],\n",
              "           [ 0.        ],\n",
              "           [ 0.03980598]]],\n",
              " \n",
              " \n",
              "         [[[ 1.5126271 ],\n",
              "           [ 1.3534032 ],\n",
              "           [ 1.2737913 ],\n",
              "           ...,\n",
              "           [ 0.23883587],\n",
              "           [ 0.23883587],\n",
              "           [ 0.23883587]],\n",
              " \n",
              "          [[ 1.5922391 ],\n",
              "           [ 1.3534032 ],\n",
              "           [ 1.1941793 ],\n",
              "           ...,\n",
              "           [ 0.23883587],\n",
              "           [ 0.23883587],\n",
              "           [ 0.23883587]],\n",
              " \n",
              "          [[ 1.2737913 ],\n",
              "           [ 1.1941793 ],\n",
              "           [ 1.0747614 ],\n",
              "           ...,\n",
              "           [ 0.31844783],\n",
              "           [ 0.31844783],\n",
              "           [ 0.23883587]],\n",
              " \n",
              "          ...,\n",
              " \n",
              "          [[ 1.1543734 ],\n",
              "           [ 1.1145674 ],\n",
              "           [ 1.0747614 ],\n",
              "           ...,\n",
              "           [ 0.03980598],\n",
              "           [ 0.03980598],\n",
              "           [ 0.03980598]],\n",
              " \n",
              "          [[ 1.1543734 ],\n",
              "           [ 1.1145674 ],\n",
              "           [ 1.1145674 ],\n",
              "           ...,\n",
              "           [ 0.03980598],\n",
              "           [ 0.03980598],\n",
              "           [ 0.03980598]],\n",
              " \n",
              "          [[ 1.1543734 ],\n",
              "           [ 1.1145674 ],\n",
              "           [ 1.1145674 ],\n",
              "           ...,\n",
              "           [ 0.03980598],\n",
              "           [ 0.03980598],\n",
              "           [ 0.        ]]]]], dtype=float32),\n",
              " array([[ 5, 20, 18,  5,  4,  1, 20, 15, 26,  5, 18, 15, 16, 12,  5,  1,\n",
              "         19,  5,  0,  0,  0,  0,  0,  0,  0,  0,  0,  0,  0,  0,  0,  0,\n",
              "          0,  0,  0,  0,  0,  0,  0,  0],\n",
              "        [ 5, 20,  2, 12, 21,  5, 23,  9, 20,  8,  2,  6,  9, 22,  5,  1,\n",
              "          7,  1,  9, 14,  0,  0,  0,  0,  0,  0,  0,  0,  0,  0,  0,  0,\n",
              "          0,  0,  0,  0,  0,  0,  0,  0]]))"
            ]
          },
          "metadata": {},
          "execution_count": 59
        }
      ]
    },
    {
      "cell_type": "code",
      "source": [
        "#lets predict by our model\n",
        "yhat=model.predict(sampledata[0])"
      ],
      "metadata": {
        "colab": {
          "base_uri": "https://localhost:8080/"
        },
        "id": "2zw3aC_-bpTa",
        "outputId": "26506cad-3539-4397-9c61-cc7987b68f37"
      },
      "execution_count": null,
      "outputs": [
        {
          "output_type": "stream",
          "name": "stdout",
          "text": [
            "1/1 [==============================] - 14s 14s/step\n"
          ]
        }
      ]
    },
    {
      "cell_type": "code",
      "source": [
        "decoded = tf.keras.backend.ctc_decode(yhat, input_length=[75,75], greedy=True)[0][0].numpy()\n"
      ],
      "metadata": {
        "id": "0MJgn59PbpWE"
      },
      "execution_count": null,
      "outputs": []
    },
    {
      "cell_type": "code",
      "source": [
        "#Let's see what our model has predicted\n",
        "print('~'*100, 'PREDICTIONS')\n",
        "[tf.strings.reduce_join([num_to_char(word) for word in sentence]) for sentence in decoded]"
      ],
      "metadata": {
        "colab": {
          "base_uri": "https://localhost:8080/"
        },
        "id": "Xq6R3ccIcmYk",
        "outputId": "20d8f15a-ace4-4f3a-bc8c-377c416d591b"
      },
      "execution_count": null,
      "outputs": [
        {
          "output_type": "stream",
          "name": "stdout",
          "text": [
            "~~~~~~~~~~~~~~~~~~~~~~~~~~~~~~~~~~~~~~~~~~~~~~~~~~~~~~~~~~~~~~~~~~~~~~~~~~~~~~~~~~~~~~~~~~~~~~~~~~~~ PREDICTIONS\n"
          ]
        },
        {
          "output_type": "execute_result",
          "data": {
            "text/plain": [
              "[<tf.Tensor: shape=(), dtype=string, numpy=b'set red at z zero please'>,\n",
              " <tf.Tensor: shape=(), dtype=string, numpy=b'set blue with b five again'>]"
            ]
          },
          "metadata": {},
          "execution_count": 62
        }
      ]
    },
    {
      "cell_type": "code",
      "source": [
        "#let's see what are the original predictions\n",
        "print('~'*100, 'REAL TEXT')\n",
        "[tf.strings.reduce_join([num_to_char(word) for word in sentence]) for sentence in sampledata[1]]"
      ],
      "metadata": {
        "colab": {
          "base_uri": "https://localhost:8080/"
        },
        "id": "2FIKb1Y0cohp",
        "outputId": "288bd810-8dcc-4e92-f903-14dc5638be6b"
      },
      "execution_count": null,
      "outputs": [
        {
          "output_type": "stream",
          "name": "stdout",
          "text": [
            "~~~~~~~~~~~~~~~~~~~~~~~~~~~~~~~~~~~~~~~~~~~~~~~~~~~~~~~~~~~~~~~~~~~~~~~~~~~~~~~~~~~~~~~~~~~~~~~~~~~~ REAL TEXT\n"
          ]
        },
        {
          "output_type": "execute_result",
          "data": {
            "text/plain": [
              "[<tf.Tensor: shape=(), dtype=string, numpy=b'etredatozeroplease'>,\n",
              " <tf.Tensor: shape=(), dtype=string, numpy=b'etbluewithbfiveagain'>]"
            ]
          },
          "metadata": {},
          "execution_count": 63
        }
      ]
    },
    {
      "cell_type": "markdown",
      "source": [
        "test on a video manually"
      ],
      "metadata": {
        "id": "2zHn6UTnd2Oo"
      }
    },
    {
      "cell_type": "code",
      "source": [
        "vid=load_data(tf.convert_to_tensor('/content/data/s1/bbal7s.mpg'))"
      ],
      "metadata": {
        "id": "Grk_BwyLczq4"
      },
      "execution_count": null,
      "outputs": []
    },
    {
      "cell_type": "code",
      "source": [
        "yhat=model.predict(tf.expand_dims(vid[0],axis=0))"
      ],
      "metadata": {
        "colab": {
          "base_uri": "https://localhost:8080/"
        },
        "id": "faB2yBd9eLSN",
        "outputId": "028e95c6-b17d-4d44-8f48-b339349f9a1c"
      },
      "execution_count": null,
      "outputs": [
        {
          "output_type": "stream",
          "name": "stdout",
          "text": [
            "1/1 [==============================] - 5s 5s/step\n"
          ]
        }
      ]
    },
    {
      "cell_type": "code",
      "source": [
        "yhat"
      ],
      "metadata": {
        "colab": {
          "base_uri": "https://localhost:8080/"
        },
        "id": "34YFrxEugBD5",
        "outputId": "24608731-032e-4140-ee75-2654399d49fa"
      },
      "execution_count": null,
      "outputs": [
        {
          "output_type": "execute_result",
          "data": {
            "text/plain": [
              "array([[[4.3409955e-07, 5.1527792e-07, 9.9908400e-01, ...,\n",
              "         6.0157808e-09, 7.0081437e-06, 5.7435539e-08],\n",
              "        [1.1556307e-06, 1.1040611e-05, 4.1287908e-04, ...,\n",
              "         1.2609860e-10, 5.8621258e-06, 6.8504056e-07],\n",
              "        [1.3382200e-06, 2.3209769e-04, 2.3204213e-06, ...,\n",
              "         1.1135842e-11, 1.8604673e-05, 7.6225041e-07],\n",
              "        ...,\n",
              "        [9.9994302e-01, 4.1289730e-10, 1.4618448e-09, ...,\n",
              "         6.7160032e-12, 7.6918445e-09, 5.6764275e-05],\n",
              "        [6.3084510e-05, 4.1668741e-10, 4.8672788e-10, ...,\n",
              "         1.3651224e-12, 2.3364921e-09, 9.9993658e-01],\n",
              "        [9.9986279e-01, 3.1642553e-09, 8.6580423e-09, ...,\n",
              "         9.5976907e-11, 7.2776899e-08, 1.3586233e-04]]], dtype=float32)"
            ]
          },
          "metadata": {},
          "execution_count": 71
        }
      ]
    },
    {
      "cell_type": "code",
      "source": [
        "#let's see what are the original predictions\n",
        "print('~'*100, 'REAL TEXT')\n",
        "[tf.strings.reduce_join([num_to_char(word) for word in sentence]) for sentence in [vid[1]]]"
      ],
      "metadata": {
        "colab": {
          "base_uri": "https://localhost:8080/"
        },
        "id": "XGYnMCnUgIWA",
        "outputId": "9b06fbd6-28ff-4c50-8aba-76d5c9fe2ece"
      },
      "execution_count": null,
      "outputs": [
        {
          "output_type": "stream",
          "name": "stdout",
          "text": [
            "~~~~~~~~~~~~~~~~~~~~~~~~~~~~~~~~~~~~~~~~~~~~~~~~~~~~~~~~~~~~~~~~~~~~~~~~~~~~~~~~~~~~~~~~~~~~~~~~~~~~ REAL TEXT\n"
          ]
        },
        {
          "output_type": "execute_result",
          "data": {
            "text/plain": [
              "[<tf.Tensor: shape=(), dtype=string, numpy=b'inblueatlsevensoon'>]"
            ]
          },
          "metadata": {},
          "execution_count": 73
        }
      ]
    },
    {
      "cell_type": "code",
      "source": [
        "decoded = tf.keras.backend.ctc_decode(yhat, input_length=[75], greedy=True)[0][0].numpy()\n"
      ],
      "metadata": {
        "id": "BWqWOdPIgyqY"
      },
      "execution_count": null,
      "outputs": []
    },
    {
      "cell_type": "code",
      "source": [
        "#Let's see what our model has predicted\n",
        "print('~'*100, 'PREDICTIONS')\n",
        "[tf.strings.reduce_join([num_to_char(word) for word in sentence]) for sentence in decoded]"
      ],
      "metadata": {
        "colab": {
          "base_uri": "https://localhost:8080/"
        },
        "id": "_sSu2sHMhVcP",
        "outputId": "2d1d10ce-df32-4f45-9bec-0c4e1d7c303c"
      },
      "execution_count": null,
      "outputs": [
        {
          "output_type": "stream",
          "name": "stdout",
          "text": [
            "~~~~~~~~~~~~~~~~~~~~~~~~~~~~~~~~~~~~~~~~~~~~~~~~~~~~~~~~~~~~~~~~~~~~~~~~~~~~~~~~~~~~~~~~~~~~~~~~~~~~ PREDICTIONS\n"
          ]
        },
        {
          "output_type": "execute_result",
          "data": {
            "text/plain": [
              "[<tf.Tensor: shape=(), dtype=string, numpy=b'bin blue at l seven soon'>]"
            ]
          },
          "metadata": {},
          "execution_count": 75
        }
      ]
    },
    {
      "cell_type": "code",
      "source": [],
      "metadata": {
        "id": "7TBla5zkhbaQ"
      },
      "execution_count": null,
      "outputs": []
    },
    {
      "cell_type": "code",
      "source": [],
      "metadata": {
        "id": "UdSD6TpUgIKm"
      },
      "execution_count": null,
      "outputs": []
    }
  ]
}